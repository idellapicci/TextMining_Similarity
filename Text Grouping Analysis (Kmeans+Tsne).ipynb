{
 "cells": [
  {
   "cell_type": "markdown",
   "metadata": {},
   "source": [
    "# TEXT MINING - SIMILAR TEXT GROUPING\n",
    "\n",
    "* Script developed using: R version 3.4.0 (2017-04-21)\n",
    "\n",
    "* Platform: x86_64-w64-mingw32/x64 (64-bit)\n",
    "\n",
    "* IBM - May 2018 (isabelad@br.ibm.com)\n",
    "\n",
    "This notebook uses K-means clustering and t-SNE dimension reduction to support grouping analysis of sample questions to be used to create intentions for Watson Assistant (formely Watson Conversation)."
   ]
  },
  {
   "cell_type": "code",
   "execution_count": 1,
   "metadata": {},
   "outputs": [
    {
     "name": "stderr",
     "output_type": "stream",
     "text": [
      "Warning message:\n",
      "\"package 'dplyr' was built under R version 3.4.3\"\n",
      "Attaching package: 'dplyr'\n",
      "\n",
      "The following objects are masked from 'package:stats':\n",
      "\n",
      "    filter, lag\n",
      "\n",
      "The following objects are masked from 'package:base':\n",
      "\n",
      "    intersect, setdiff, setequal, union\n",
      "\n",
      "Warning message:\n",
      "\"package 'tidyr' was built under R version 3.4.3\"Warning message:\n",
      "\"package 'ggplot2' was built under R version 3.4.3\"Warning message:\n",
      "\"package 'tm' was built under R version 3.4.4\"Loading required package: NLP\n",
      "\n",
      "Attaching package: 'NLP'\n",
      "\n",
      "The following object is masked from 'package:ggplot2':\n",
      "\n",
      "    annotate\n",
      "\n",
      "Warning message:\n",
      "\"package 'textstem' was built under R version 3.4.4\"Warning message:\n",
      "\"package 'ptstem' was built under R version 3.4.4\"Warning message:\n",
      "\"package 'wordcloud' was built under R version 3.4.4\"Loading required package: RColorBrewer\n",
      "Warning message:\n",
      "\"package 'Rtsne' was built under R version 3.4.4\"Warning message:\n",
      "\"package 'dbscan' was built under R version 3.4.4\"Warning message:\n",
      "\"package 'scatterplot3d' was built under R version 3.4.4\""
     ]
    }
   ],
   "source": [
    "#Libraries\n",
    "\n",
    "library('dplyr') #data manipulation (filter, group, sort)\n",
    "library('tidyr') #data tidying\n",
    "library('ggplot2') #creating graphics\n",
    "library('tm') #text mining\n",
    "library('textstem') #stem and lemmatize text\n",
    "library('ptstem') #stemming algorithms for the Portuguese Language\n",
    "library('SnowballC') #text stemming\n",
    "library('stringr') #string manipulation\n",
    "library('wordcloud') # word-cloud generator\n",
    "library('RColorBrewer') #color palettes\n",
    "library('Rtsne') #R wrapper around the fast T-distributed Stochastic Neighbor Embedding implementation by Van der Maaten\n",
    "library('dbscan') #density-based algorithms for spatial data (e.j.: OPTICS)\n",
    "library('scatterplot3d') #three dimensional (3D) point cloud ploting"
   ]
  },
  {
   "cell_type": "code",
   "execution_count": 7,
   "metadata": {
    "collapsed": true
   },
   "outputs": [],
   "source": [
    "#Parameters\n",
    "\n",
    "dir_file <- 'C:/Users/IsabelaDellaliberaPi/Box Sync/Backup Isa/CBDS/SANTANDER/Sara 2.0/Base Conhecimento/Cluster Workspaces/Perguntas'\n",
    "base_file <- 'Perguntas Exemplo - Cartões  - Consolidado.csv'\n",
    "token_file <- 'token.txt'\n",
    "final_file <- 'cluster_perguntas.csv'\n",
    "model_file <- 'model_perguntas.rda'\n",
    "ngram <- 1\n",
    "sparsity <- 0.995"
   ]
  },
  {
   "cell_type": "markdown",
   "metadata": {},
   "source": [
    "## SECTION 1: Load and clean data"
   ]
  },
  {
   "cell_type": "code",
   "execution_count": 8,
   "metadata": {
    "scrolled": true
   },
   "outputs": [
    {
     "data": {
      "text/html": [
       "<table>\n",
       "<thead><tr><th scope=col>Curador</th><th scope=col>Status</th><th scope=col>Data</th><th scope=col>Perguntas</th><th scope=col>ID</th></tr></thead>\n",
       "<tbody>\n",
       "\t<tr><td>Deborah                                    </td><td>Backlog                                    </td><td>09/04/2018                                 </td><td>segunda via de senha cartão debito         </td><td>1                                          </td></tr>\n",
       "\t<tr><td>Deborah                                    </td><td>Backlog                                    </td><td>06/04/2018                                 </td><td>estorno de anuidade para cartao cancelado  </td><td>2                                          </td></tr>\n",
       "\t<tr><td>Deborah                                    </td><td>Backlog                                    </td><td>09/04/2018                                 </td><td>quais são os cartões para pj               </td><td>3                                          </td></tr>\n",
       "\t<tr><td>Nelson                                     </td><td>Backlog                                    </td><td>03/04/2018                                 </td><td>qual cartão tem sala vip                   </td><td>4                                          </td></tr>\n",
       "\t<tr><td>Deborah                                    </td><td>Backlog                                    </td><td>09/04/2018                                 </td><td>prazo de entrega cartão de crédito         </td><td>5                                          </td></tr>\n",
       "\t<tr><td>Deborah                                    </td><td>Backlog                                    </td><td>11/04/2018                                 </td><td>solicitação de um novo cartão expresso     </td><td>6                                          </td></tr>\n",
       "\t<tr><td>Deborah                                    </td><td>Backlog                                    </td><td>11/04/2018                                 </td><td>desbloquear cartão com erro de leitura     </td><td>7                                          </td></tr>\n",
       "\t<tr><td>Deborah                                    </td><td>Backlog                                    </td><td>11/04/2018                                 </td><td>limite diario compra cartao de debito      </td><td>8                                          </td></tr>\n",
       "\t<tr><td>Nelson                                     </td><td>Backlog                                    </td><td>04/04/2018                                 </td><td>erro na impressao de fatura                </td><td>9                                          </td></tr>\n",
       "\t<tr><td>Deborah                                    </td><td>Backlog                                    </td><td>                                           </td><td>inclusão debio automatico cartão de credito</td><td>10                                         </td></tr>\n",
       "</tbody>\n",
       "</table>\n"
      ],
      "text/latex": [
       "\\begin{tabular}{r|lllll}\n",
       " Curador & Status & Data & Perguntas & ID\\\\\n",
       "\\hline\n",
       "\t Deborah                                     & Backlog                                     & 09/04/2018                                  & segunda via de senha cartão debito          & 1                                          \\\\\n",
       "\t Deborah                                     & Backlog                                     & 06/04/2018                                  & estorno de anuidade para cartao cancelado   & 2                                          \\\\\n",
       "\t Deborah                                     & Backlog                                     & 09/04/2018                                  & quais são os cartões para pj                & 3                                          \\\\\n",
       "\t Nelson                                      & Backlog                                     & 03/04/2018                                  & qual cartão tem sala vip                    & 4                                          \\\\\n",
       "\t Deborah                                     & Backlog                                     & 09/04/2018                                  & prazo de entrega cartão de crédito          & 5                                          \\\\\n",
       "\t Deborah                                     & Backlog                                     & 11/04/2018                                  & solicitação de um novo cartão expresso      & 6                                          \\\\\n",
       "\t Deborah                                     & Backlog                                     & 11/04/2018                                  & desbloquear cartão com erro de leitura      & 7                                          \\\\\n",
       "\t Deborah                                     & Backlog                                     & 11/04/2018                                  & limite diario compra cartao de debito       & 8                                          \\\\\n",
       "\t Nelson                                      & Backlog                                     & 04/04/2018                                  & erro na impressao de fatura                 & 9                                          \\\\\n",
       "\t Deborah                                     & Backlog                                     &                                             & inclusão debio automatico cartão de credito & 10                                         \\\\\n",
       "\\end{tabular}\n"
      ],
      "text/markdown": [
       "\n",
       "Curador | Status | Data | Perguntas | ID | \n",
       "|---|---|---|---|---|---|---|---|---|---|\n",
       "| Deborah                                     | Backlog                                     | 09/04/2018                                  | segunda via de senha cartão debito          | 1                                           | \n",
       "| Deborah                                     | Backlog                                     | 06/04/2018                                  | estorno de anuidade para cartao cancelado   | 2                                           | \n",
       "| Deborah                                     | Backlog                                     | 09/04/2018                                  | quais são os cartões para pj                | 3                                           | \n",
       "| Nelson                                      | Backlog                                     | 03/04/2018                                  | qual cartão tem sala vip                    | 4                                           | \n",
       "| Deborah                                     | Backlog                                     | 09/04/2018                                  | prazo de entrega cartão de crédito          | 5                                           | \n",
       "| Deborah                                     | Backlog                                     | 11/04/2018                                  | solicitação de um novo cartão expresso      | 6                                           | \n",
       "| Deborah                                     | Backlog                                     | 11/04/2018                                  | desbloquear cartão com erro de leitura      | 7                                           | \n",
       "| Deborah                                     | Backlog                                     | 11/04/2018                                  | limite diario compra cartao de debito       | 8                                           | \n",
       "| Nelson                                      | Backlog                                     | 04/04/2018                                  | erro na impressao de fatura                 | 9                                           | \n",
       "| Deborah                                     | Backlog                                     |                                             | inclusão debio automatico cartão de credito | 10                                          | \n",
       "\n",
       "\n"
      ],
      "text/plain": [
       "   Curador Status  Data       Perguntas                                   ID\n",
       "1  Deborah Backlog 09/04/2018 segunda via de senha cartão debito          1 \n",
       "2  Deborah Backlog 06/04/2018 estorno de anuidade para cartao cancelado   2 \n",
       "3  Deborah Backlog 09/04/2018 quais são os cartões para pj                3 \n",
       "4  Nelson  Backlog 03/04/2018 qual cartão tem sala vip                    4 \n",
       "5  Deborah Backlog 09/04/2018 prazo de entrega cartão de crédito          5 \n",
       "6  Deborah Backlog 11/04/2018 solicitação de um novo cartão expresso      6 \n",
       "7  Deborah Backlog 11/04/2018 desbloquear cartão com erro de leitura      7 \n",
       "8  Deborah Backlog 11/04/2018 limite diario compra cartao de debito       8 \n",
       "9  Nelson  Backlog 04/04/2018 erro na impressao de fatura                 9 \n",
       "10 Deborah Backlog            inclusão debio automatico cartão de credito 10"
      ]
     },
     "metadata": {},
     "output_type": "display_data"
    }
   ],
   "source": [
    "setwd(dir_file)\n",
    "df <- read.csv(file = base_file, header = TRUE, sep = \";\", dec = \".\", stringsAsFactors = FALSE)\n",
    "df <- cbind(df, ID=row.names(df))\n",
    "head(df, 10)"
   ]
  },
  {
   "cell_type": "code",
   "execution_count": 9,
   "metadata": {
    "collapsed": true
   },
   "outputs": [],
   "source": [
    "#We are interested in the column containing the questions samples (e.j.:Perguntas)\n",
    "df<- df[,4:5]\n",
    "df_original <- df\n",
    "df <- df[!duplicated(df$Perguntas),]"
   ]
  },
  {
   "cell_type": "code",
   "execution_count": 10,
   "metadata": {
    "collapsed": true
   },
   "outputs": [],
   "source": [
    "#Function for text normalization\n",
    "\n",
    "unwanted_array = list(    'Š'='S', 'š'='s', 'Ž'='Z', 'ž'='z', 'À'='A', 'Á'='A', 'Â'='A', 'Ã'='A', 'Ä'='A', 'Å'='A', 'Æ'='A', 'Ç'='C', 'È'='E', 'É'='E',\n",
    "                            'Ê'='E', 'Ë'='E', 'Ì'='I', 'Í'='I', 'Î'='I', 'Ï'='I', 'Ñ'='N', 'Ò'='O', 'Ó'='O', 'Ô'='O', 'Õ'='O', 'Ö'='O', 'Ø'='O', 'Ù'='U',\n",
    "                            'Ú'='U', 'Û'='U', 'Ü'='U', 'Ý'='Y', 'Þ'='B', 'ß'='Ss', 'à'='a', 'á'='a', 'â'='a', 'ã'='a', 'ä'='a', 'å'='a', 'æ'='a', 'ç'='c',\n",
    "                            'è'='e', 'é'='e', 'ê'='e', 'ë'='e', 'ì'='i', 'í'='i', 'î'='i', 'ï'='i', 'ð'='o', 'ñ'='n', 'ò'='o', 'ó'='o', 'ô'='o', 'õ'='o',\n",
    "                            'ö'='o', 'ø'='o', 'ù'='u', 'ú'='u', 'û'='u', 'ý'='y', 'ý'='y', 'þ'='b', 'ÿ'='y' )\n",
    "\n",
    "normalize_str <- function(s) {\n",
    "  s <- iconv(s, from='UTF-8', to='ASCII//TRANSLIT')\n",
    "  s <- chartr(paste(names(unwanted_array), collapse=''), paste(unwanted_array, collapse=''),s)\n",
    "  s <- tolower(s)\n",
    "  s <- gsub('/',' ', s)\n",
    "  s<- removePunctuation(s)\n",
    "  s <- removeNumbers(s)\n",
    "    \n",
    "\n",
    "#Dictionary with some important business specific terms to replace, mainly terms with less than 2 characters\n",
    "###\n",
    "  s <- gsub(' pj ',' pessoa juridica ', s)\n",
    "  s <- gsub(' pf ',' pessoa fisica ', s)\n",
    "  s <- gsub(' cc ',' conta corrente ', s)\n",
    "  s <- gsub(' ag ',' agencia ', s)\n",
    "  s <- gsub(' caps ',' capitalizacao ', s)\n",
    "  s <- gsub(' cap ',' capitalizacao ', s)\n",
    "  s <- gsub(' ib ',' internet banking ', s)\n",
    "  s <- gsub(' ly ',' renly ', s)\n",
    "  s <- gsub(' oy ',' renoy ', s)\n",
    "  s <- gsub(' on line ',' online ', s)\n",
    "  s <- gsub(' conta poupanca ',' contapoupanca ', s)\n",
    "  s <- gsub(' conta max ',' contamax ', s)\n",
    "  s <- gsub(' fundos ',' fundo ', s)\n",
    "  s <- gsub(' di ',' cdi ', s)\n",
    "  s <- gsub(' investimentos ',' investimento ', s)\n",
    "  s <- gsub(' rendimentos ',' rendimento ', s)\n",
    "  s <- gsub(' ir ',' imposto de renda ', s)\n",
    "###\n",
    "    \n",
    "  s <- gsub('\\\\b\\\\w{1,2}\\\\b','', s)\n",
    "  s <- removeWords(s, stopwords('portuguese'))\n",
    "  s <- gsub('\\\\\\n','', s)\n",
    "  s <- gsub('\\\\ +',' ', s)\n",
    "}"
   ]
  },
  {
   "cell_type": "code",
   "execution_count": 11,
   "metadata": {},
   "outputs": [
    {
     "name": "stderr",
     "output_type": "stream",
     "text": [
      "Warning message:\n",
      "\"package 'bindrcpp' was built under R version 3.4.4\""
     ]
    }
   ],
   "source": [
    "df$Perguntas <- normalize_str(df$Perguntas)\n",
    "corpus <- normalize_str(df$Perguntas)\n",
    "corpus <- ptstem(corpus, algorithm = \"hunspell\", complete = FALSE) #stemming algorithm for Portuguese\n",
    "wc_corpus <- VCorpus(VectorSource(corpus), readerControl = list(language = \"pt-BR\"))"
   ]
  },
  {
   "cell_type": "markdown",
   "metadata": {},
   "source": [
    "## SECTION 2: Create Term-Document Matrix for Text Mining"
   ]
  },
  {
   "cell_type": "code",
   "execution_count": 12,
   "metadata": {
    "collapsed": true
   },
   "outputs": [],
   "source": [
    "#Function for Tokenization\n",
    "\n",
    "NgramTokenizer <- function(x){\n",
    "  unlist(lapply(ngrams(words(x), c(1:ngram)), paste, collapse = ' '), use.names = FALSE)\n",
    "  }\n",
    "\n",
    "\n",
    "ndocs <- length(corpus)\n",
    "MinTermFreq <- ndocs * 0.01 # ignore extremely rare words i.e. terms that appear in less then 1% of the documents\n",
    "MaxTermFreq <- ndocs * .8 # ignore overly common words i.e. terms that appear in more than 80% of the documents\n",
    "\n",
    "\n",
    "#Function to create the Document Term Matrix (dtm) by term frequency (tf-idf)\n",
    "\n",
    "dtm <- TermDocumentMatrix(wc_corpus, \n",
    "                          control = list( weighting = function(x) weightTfIdf(x, normalize=FALSE),\n",
    "                                          tokenize = NgramTokenizer,\n",
    "                                          minWordLength = 2,\n",
    "                                          bounds = list(global = c(MinTermFreq, MaxTermFreq)))\n",
    ")"
   ]
  },
  {
   "cell_type": "code",
   "execution_count": 13,
   "metadata": {},
   "outputs": [
    {
     "data": {
      "text/html": [
       "<table>\n",
       "<thead><tr><th></th><th scope=col>adicional</th><th scope=col>alteracao</th><th scope=col>alterar</th><th scope=col>anuidade</th><th scope=col>automatico</th><th scope=col>black</th><th scope=col>bloquear</th><th scope=col>cadastrar</th><th scope=col>cancelar</th><th scope=col>cartao</th><th scope=col>...</th><th scope=col>taxar</th><th scope=col>titular</th><th scope=col>transformacao</th><th scope=col>unique</th><th scope=col>valor</th><th scope=col>vencer</th><th scope=col>vip</th><th scope=col>vir</th><th scope=col>visar</th><th scope=col>way</th></tr></thead>\n",
       "<tbody>\n",
       "\t<tr><th scope=row>1</th><td>0         </td><td>0         </td><td>0         </td><td>0.0000000 </td><td>0.0000000 </td><td>0         </td><td>0.0000000 </td><td>0         </td><td>0.0000000 </td><td>0.06225351</td><td>...       </td><td>0         </td><td>0         </td><td>0         </td><td>0         </td><td>0         </td><td>0         </td><td>0.0000000 </td><td>0.5867378 </td><td>0         </td><td>0         </td></tr>\n",
       "\t<tr><th scope=row>2</th><td>0         </td><td>0         </td><td>0         </td><td>0.4313466 </td><td>0.0000000 </td><td>0         </td><td>0.0000000 </td><td>0         </td><td>0.5424768 </td><td>0.08296225</td><td>...       </td><td>0         </td><td>0         </td><td>0         </td><td>0         </td><td>0         </td><td>0         </td><td>0.0000000 </td><td>0.0000000 </td><td>0         </td><td>0         </td></tr>\n",
       "\t<tr><th scope=row>3</th><td>0         </td><td>0         </td><td>0         </td><td>0.0000000 </td><td>0.0000000 </td><td>0         </td><td>0.0000000 </td><td>0         </td><td>0.0000000 </td><td>0.00000000</td><td>...       </td><td>0         </td><td>0         </td><td>0         </td><td>0         </td><td>0         </td><td>0         </td><td>0.0000000 </td><td>0.0000000 </td><td>0         </td><td>0         </td></tr>\n",
       "\t<tr><th scope=row>4</th><td>0         </td><td>0         </td><td>0         </td><td>0.0000000 </td><td>0.0000000 </td><td>0         </td><td>0.0000000 </td><td>0         </td><td>0.0000000 </td><td>0.06851604</td><td>...       </td><td>0         </td><td>0         </td><td>0         </td><td>0         </td><td>0         </td><td>0         </td><td>0.6818192 </td><td>0.0000000 </td><td>0         </td><td>0         </td></tr>\n",
       "\t<tr><th scope=row>5</th><td>0         </td><td>0         </td><td>0         </td><td>0.0000000 </td><td>0.0000000 </td><td>0         </td><td>0.0000000 </td><td>0         </td><td>0.0000000 </td><td>0.10342191</td><td>...       </td><td>0         </td><td>0         </td><td>0         </td><td>0         </td><td>0         </td><td>0         </td><td>0.0000000 </td><td>0.0000000 </td><td>0         </td><td>0         </td></tr>\n",
       "\t<tr><th scope=row>6</th><td>0         </td><td>0         </td><td>0         </td><td>0.0000000 </td><td>0.0000000 </td><td>0         </td><td>0.0000000 </td><td>0         </td><td>0.0000000 </td><td>0.09998647</td><td>...       </td><td>0         </td><td>0         </td><td>0         </td><td>0         </td><td>0         </td><td>0         </td><td>0.0000000 </td><td>0.0000000 </td><td>0         </td><td>0         </td></tr>\n",
       "\t<tr><th scope=row>7</th><td>0         </td><td>0         </td><td>0         </td><td>0.0000000 </td><td>0.0000000 </td><td>0         </td><td>0.5446733 </td><td>0         </td><td>0.0000000 </td><td>0.08848482</td><td>...       </td><td>0         </td><td>0         </td><td>0         </td><td>0         </td><td>0         </td><td>0         </td><td>0.0000000 </td><td>0.0000000 </td><td>0         </td><td>0         </td></tr>\n",
       "\t<tr><th scope=row>8</th><td>0         </td><td>0         </td><td>0         </td><td>0.0000000 </td><td>0.0000000 </td><td>0         </td><td>0.0000000 </td><td>0         </td><td>0.0000000 </td><td>0.07513728</td><td>...       </td><td>0         </td><td>0         </td><td>0         </td><td>0         </td><td>0         </td><td>0         </td><td>0.0000000 </td><td>0.0000000 </td><td>0         </td><td>0         </td></tr>\n",
       "\t<tr><th scope=row>9</th><td>0         </td><td>0         </td><td>0         </td><td>0.0000000 </td><td>0.0000000 </td><td>0         </td><td>0.0000000 </td><td>0         </td><td>0.0000000 </td><td>0.00000000</td><td>...       </td><td>0         </td><td>0         </td><td>0         </td><td>0         </td><td>0         </td><td>0         </td><td>0.0000000 </td><td>0.0000000 </td><td>0         </td><td>0         </td></tr>\n",
       "\t<tr><th scope=row>10</th><td>0         </td><td>0         </td><td>0         </td><td>0.0000000 </td><td>0.8584957 </td><td>0         </td><td>0.0000000 </td><td>0         </td><td>0.0000000 </td><td>0.09544153</td><td>...       </td><td>0         </td><td>0         </td><td>0         </td><td>0         </td><td>0         </td><td>0         </td><td>0.0000000 </td><td>0.0000000 </td><td>0         </td><td>0         </td></tr>\n",
       "</tbody>\n",
       "</table>\n"
      ],
      "text/latex": [
       "\\begin{tabular}{r|llllllllllllllllllllllllllllllllllllllllllllllllllllllllllllllllllllllll}\n",
       "  & adicional & alteracao & alterar & anuidade & automatico & black & bloquear & cadastrar & cancelar & cartao & ... & taxar & titular & transformacao & unique & valor & vencer & vip & vir & visar & way\\\\\n",
       "\\hline\n",
       "\t1 & 0          & 0          & 0          & 0.0000000  & 0.0000000  & 0          & 0.0000000  & 0          & 0.0000000  & 0.06225351 & ...        & 0          & 0          & 0          & 0          & 0          & 0          & 0.0000000  & 0.5867378  & 0          & 0         \\\\\n",
       "\t2 & 0          & 0          & 0          & 0.4313466  & 0.0000000  & 0          & 0.0000000  & 0          & 0.5424768  & 0.08296225 & ...        & 0          & 0          & 0          & 0          & 0          & 0          & 0.0000000  & 0.0000000  & 0          & 0         \\\\\n",
       "\t3 & 0          & 0          & 0          & 0.0000000  & 0.0000000  & 0          & 0.0000000  & 0          & 0.0000000  & 0.00000000 & ...        & 0          & 0          & 0          & 0          & 0          & 0          & 0.0000000  & 0.0000000  & 0          & 0         \\\\\n",
       "\t4 & 0          & 0          & 0          & 0.0000000  & 0.0000000  & 0          & 0.0000000  & 0          & 0.0000000  & 0.06851604 & ...        & 0          & 0          & 0          & 0          & 0          & 0          & 0.6818192  & 0.0000000  & 0          & 0         \\\\\n",
       "\t5 & 0          & 0          & 0          & 0.0000000  & 0.0000000  & 0          & 0.0000000  & 0          & 0.0000000  & 0.10342191 & ...        & 0          & 0          & 0          & 0          & 0          & 0          & 0.0000000  & 0.0000000  & 0          & 0         \\\\\n",
       "\t6 & 0          & 0          & 0          & 0.0000000  & 0.0000000  & 0          & 0.0000000  & 0          & 0.0000000  & 0.09998647 & ...        & 0          & 0          & 0          & 0          & 0          & 0          & 0.0000000  & 0.0000000  & 0          & 0         \\\\\n",
       "\t7 & 0          & 0          & 0          & 0.0000000  & 0.0000000  & 0          & 0.5446733  & 0          & 0.0000000  & 0.08848482 & ...        & 0          & 0          & 0          & 0          & 0          & 0          & 0.0000000  & 0.0000000  & 0          & 0         \\\\\n",
       "\t8 & 0          & 0          & 0          & 0.0000000  & 0.0000000  & 0          & 0.0000000  & 0          & 0.0000000  & 0.07513728 & ...        & 0          & 0          & 0          & 0          & 0          & 0          & 0.0000000  & 0.0000000  & 0          & 0         \\\\\n",
       "\t9 & 0          & 0          & 0          & 0.0000000  & 0.0000000  & 0          & 0.0000000  & 0          & 0.0000000  & 0.00000000 & ...        & 0          & 0          & 0          & 0          & 0          & 0          & 0.0000000  & 0.0000000  & 0          & 0         \\\\\n",
       "\t10 & 0          & 0          & 0          & 0.0000000  & 0.8584957  & 0          & 0.0000000  & 0          & 0.0000000  & 0.09544153 & ...        & 0          & 0          & 0          & 0          & 0          & 0          & 0.0000000  & 0.0000000  & 0          & 0         \\\\\n",
       "\\end{tabular}\n"
      ],
      "text/markdown": [
       "\n",
       "| <!--/--> | adicional | alteracao | alterar | anuidade | automatico | black | bloquear | cadastrar | cancelar | cartao | ... | taxar | titular | transformacao | unique | valor | vencer | vip | vir | visar | way | \n",
       "|---|---|---|---|---|---|---|---|---|---|\n",
       "| 1 | 0          | 0          | 0          | 0.0000000  | 0.0000000  | 0          | 0.0000000  | 0          | 0.0000000  | 0.06225351 | ...        | 0          | 0          | 0          | 0          | 0          | 0          | 0.0000000  | 0.5867378  | 0          | 0          | \n",
       "| 2 | 0          | 0          | 0          | 0.4313466  | 0.0000000  | 0          | 0.0000000  | 0          | 0.5424768  | 0.08296225 | ...        | 0          | 0          | 0          | 0          | 0          | 0          | 0.0000000  | 0.0000000  | 0          | 0          | \n",
       "| 3 | 0          | 0          | 0          | 0.0000000  | 0.0000000  | 0          | 0.0000000  | 0          | 0.0000000  | 0.00000000 | ...        | 0          | 0          | 0          | 0          | 0          | 0          | 0.0000000  | 0.0000000  | 0          | 0          | \n",
       "| 4 | 0          | 0          | 0          | 0.0000000  | 0.0000000  | 0          | 0.0000000  | 0          | 0.0000000  | 0.06851604 | ...        | 0          | 0          | 0          | 0          | 0          | 0          | 0.6818192  | 0.0000000  | 0          | 0          | \n",
       "| 5 | 0          | 0          | 0          | 0.0000000  | 0.0000000  | 0          | 0.0000000  | 0          | 0.0000000  | 0.10342191 | ...        | 0          | 0          | 0          | 0          | 0          | 0          | 0.0000000  | 0.0000000  | 0          | 0          | \n",
       "| 6 | 0          | 0          | 0          | 0.0000000  | 0.0000000  | 0          | 0.0000000  | 0          | 0.0000000  | 0.09998647 | ...        | 0          | 0          | 0          | 0          | 0          | 0          | 0.0000000  | 0.0000000  | 0          | 0          | \n",
       "| 7 | 0          | 0          | 0          | 0.0000000  | 0.0000000  | 0          | 0.5446733  | 0          | 0.0000000  | 0.08848482 | ...        | 0          | 0          | 0          | 0          | 0          | 0          | 0.0000000  | 0.0000000  | 0          | 0          | \n",
       "| 8 | 0          | 0          | 0          | 0.0000000  | 0.0000000  | 0          | 0.0000000  | 0          | 0.0000000  | 0.07513728 | ...        | 0          | 0          | 0          | 0          | 0          | 0          | 0.0000000  | 0.0000000  | 0          | 0          | \n",
       "| 9 | 0          | 0          | 0          | 0.0000000  | 0.0000000  | 0          | 0.0000000  | 0          | 0.0000000  | 0.00000000 | ...        | 0          | 0          | 0          | 0          | 0          | 0          | 0.0000000  | 0.0000000  | 0          | 0          | \n",
       "| 10 | 0          | 0          | 0          | 0.0000000  | 0.8584957  | 0          | 0.0000000  | 0          | 0.0000000  | 0.09544153 | ...        | 0          | 0          | 0          | 0          | 0          | 0          | 0.0000000  | 0.0000000  | 0          | 0          | \n",
       "\n",
       "\n"
      ],
      "text/plain": [
       "   adicional alteracao alterar anuidade  automatico black bloquear  cadastrar\n",
       "1  0         0         0       0.0000000 0.0000000  0     0.0000000 0        \n",
       "2  0         0         0       0.4313466 0.0000000  0     0.0000000 0        \n",
       "3  0         0         0       0.0000000 0.0000000  0     0.0000000 0        \n",
       "4  0         0         0       0.0000000 0.0000000  0     0.0000000 0        \n",
       "5  0         0         0       0.0000000 0.0000000  0     0.0000000 0        \n",
       "6  0         0         0       0.0000000 0.0000000  0     0.0000000 0        \n",
       "7  0         0         0       0.0000000 0.0000000  0     0.5446733 0        \n",
       "8  0         0         0       0.0000000 0.0000000  0     0.0000000 0        \n",
       "9  0         0         0       0.0000000 0.0000000  0     0.0000000 0        \n",
       "10 0         0         0       0.0000000 0.8584957  0     0.0000000 0        \n",
       "   cancelar  cartao     ... taxar titular transformacao unique valor vencer\n",
       "1  0.0000000 0.06225351 ... 0     0       0             0      0     0     \n",
       "2  0.5424768 0.08296225 ... 0     0       0             0      0     0     \n",
       "3  0.0000000 0.00000000 ... 0     0       0             0      0     0     \n",
       "4  0.0000000 0.06851604 ... 0     0       0             0      0     0     \n",
       "5  0.0000000 0.10342191 ... 0     0       0             0      0     0     \n",
       "6  0.0000000 0.09998647 ... 0     0       0             0      0     0     \n",
       "7  0.0000000 0.08848482 ... 0     0       0             0      0     0     \n",
       "8  0.0000000 0.07513728 ... 0     0       0             0      0     0     \n",
       "9  0.0000000 0.00000000 ... 0     0       0             0      0     0     \n",
       "10 0.0000000 0.09544153 ... 0     0       0             0      0     0     \n",
       "   vip       vir       visar way\n",
       "1  0.0000000 0.5867378 0     0  \n",
       "2  0.0000000 0.0000000 0     0  \n",
       "3  0.0000000 0.0000000 0     0  \n",
       "4  0.6818192 0.0000000 0     0  \n",
       "5  0.0000000 0.0000000 0     0  \n",
       "6  0.0000000 0.0000000 0     0  \n",
       "7  0.0000000 0.0000000 0     0  \n",
       "8  0.0000000 0.0000000 0     0  \n",
       "9  0.0000000 0.0000000 0     0  \n",
       "10 0.0000000 0.0000000 0     0  "
      ]
     },
     "metadata": {},
     "output_type": "display_data"
    }
   ],
   "source": [
    "dtm <- removeSparseTerms(dtm, sparsity)\n",
    "\n",
    "\n",
    "#Matrix with tokens to build the word cloud \n",
    "mtx <- dtm\n",
    "mtx <- as.matrix(mtx)\n",
    "\n",
    "#Matrix with each line representing one document and tokens in columns\n",
    "dtm <- t(dtm)\n",
    "dtm <- as.matrix(dtm)\n",
    "# normalizing lines\n",
    "norm_vec <- function(x) sqrt(sum(x^2))\n",
    "norms <- apply(dtm, 1, norm_vec)\n",
    "dtm <- dtm/norms\n",
    "    \n",
    "head(dtm, 10)"
   ]
  },
  {
   "cell_type": "code",
   "execution_count": 14,
   "metadata": {
    "collapsed": true
   },
   "outputs": [],
   "source": [
    "# removing documents containing NA\n",
    "dtm_na <- dtm[!duplicated(dtm),]\n",
    "is_na <- rowSums(is.na(dtm_na)) == 0\n",
    "dtm_na <- dtm_na[is_na,]"
   ]
  },
  {
   "cell_type": "markdown",
   "metadata": {},
   "source": [
    "## Section 3: Wordcloud"
   ]
  },
  {
   "cell_type": "code",
   "execution_count": 15,
   "metadata": {},
   "outputs": [
    {
     "data": {
      "text/html": [
       "<table>\n",
       "<thead><tr><th></th><th scope=col>word</th><th scope=col>freq</th></tr></thead>\n",
       "<tbody>\n",
       "\t<tr><th scope=row>debitar</th><td>debitar  </td><td>109.36436</td></tr>\n",
       "\t<tr><th scope=row>cartao</th><td>cartao   </td><td>108.88784</td></tr>\n",
       "\t<tr><th scope=row>anuidade</th><td>anuidade </td><td> 98.59774</td></tr>\n",
       "\t<tr><th scope=row>creditar</th><td>creditar </td><td> 93.65497</td></tr>\n",
       "\t<tr><th scope=row>limitar</th><td>limitar  </td><td> 88.06260</td></tr>\n",
       "\t<tr><th scope=row>bloquear</th><td>bloquear </td><td> 79.07623</td></tr>\n",
       "\t<tr><th scope=row>sacar</th><td>sacar    </td><td> 76.79071</td></tr>\n",
       "\t<tr><th scope=row>cartoes</th><td>cartoes  </td><td> 72.95117</td></tr>\n",
       "\t<tr><th scope=row>faturar</th><td>faturar  </td><td> 72.95117</td></tr>\n",
       "\t<tr><th scope=row>cancelar</th><td>cancelar </td><td> 68.00000</td></tr>\n",
       "</tbody>\n",
       "</table>\n"
      ],
      "text/latex": [
       "\\begin{tabular}{r|ll}\n",
       "  & word & freq\\\\\n",
       "\\hline\n",
       "\tdebitar & debitar   & 109.36436\\\\\n",
       "\tcartao & cartao    & 108.88784\\\\\n",
       "\tanuidade & anuidade  &  98.59774\\\\\n",
       "\tcreditar & creditar  &  93.65497\\\\\n",
       "\tlimitar & limitar   &  88.06260\\\\\n",
       "\tbloquear & bloquear  &  79.07623\\\\\n",
       "\tsacar & sacar     &  76.79071\\\\\n",
       "\tcartoes & cartoes   &  72.95117\\\\\n",
       "\tfaturar & faturar   &  72.95117\\\\\n",
       "\tcancelar & cancelar  &  68.00000\\\\\n",
       "\\end{tabular}\n"
      ],
      "text/markdown": [
       "\n",
       "| <!--/--> | word | freq | \n",
       "|---|---|---|---|---|---|---|---|---|---|\n",
       "| debitar | debitar   | 109.36436 | \n",
       "| cartao | cartao    | 108.88784 | \n",
       "| anuidade | anuidade  |  98.59774 | \n",
       "| creditar | creditar  |  93.65497 | \n",
       "| limitar | limitar   |  88.06260 | \n",
       "| bloquear | bloquear  |  79.07623 | \n",
       "| sacar | sacar     |  76.79071 | \n",
       "| cartoes | cartoes   |  72.95117 | \n",
       "| faturar | faturar   |  72.95117 | \n",
       "| cancelar | cancelar  |  68.00000 | \n",
       "\n",
       "\n"
      ],
      "text/plain": [
       "         word     freq     \n",
       "debitar  debitar  109.36436\n",
       "cartao   cartao   108.88784\n",
       "anuidade anuidade  98.59774\n",
       "creditar creditar  93.65497\n",
       "limitar  limitar   88.06260\n",
       "bloquear bloquear  79.07623\n",
       "sacar    sacar     76.79071\n",
       "cartoes  cartoes   72.95117\n",
       "faturar  faturar   72.95117\n",
       "cancelar cancelar  68.00000"
      ]
     },
     "metadata": {},
     "output_type": "display_data"
    },
    {
     "data": {
      "image/png": "[encoded data removed]",
      "text/plain": [
       "plot without title"
      ]
     },
     "metadata": {},
     "output_type": "display_data"
    }
   ],
   "source": [
    "v <- sort(rowSums(mtx),decreasing=TRUE)\n",
    "d <- data.frame(word = names(v),freq=v)\n",
    "head(d, 10)\n",
    "set.seed(1234)\n",
    "wordcloud(words = d$word, freq = d$freq, min.freq = 1,\n",
    "          max.words=100, random.order=FALSE, rot.per=0.35, \n",
    "          colors=brewer.pal(12, \"Set3\"))"
   ]
  },
  {
   "cell_type": "markdown",
   "metadata": {},
   "source": [
    "## Section 4: Using t-SNE\n",
    "\n",
    "* t-distributed stochastic neighbor embedding (t-SNE) is a machine learning algorithm for visualization developed by Laurens van der Maaten and Geoffrey Hinton.\n",
    "\n",
    "* It is a non-linear dimensionality reduction technique that makes it easier complex data visualization.\n",
    "\n",
    "* We will use this method for two dimensions.\n"
   ]
  },
  {
   "cell_type": "code",
   "execution_count": 16,
   "metadata": {},
   "outputs": [
    {
     "name": "stdout",
     "output_type": "stream",
     "text": [
      "[1] 0.4537013\n",
      "[1] 0.4381996\n",
      "[1] 0.4332038\n",
      "[1] 0.4168195\n",
      "[1] 0.4638796\n",
      "[1] 0.4368605\n",
      "[1] 0.4300875\n",
      "[1] 0.4338392\n",
      "[1] 0.4356273\n",
      "[1] 0.4479224\n"
     ]
    }
   ],
   "source": [
    "# we will repeat the method a few times and pick up the one with the minor KL divergence\n",
    "KL_val <- 99999999\n",
    "for (i in 1:10) {\n",
    "  \n",
    "  #calculates a temporary t-SNE setting\n",
    "  tsne_temp <- Rtsne(dtm_na, theta=0.0, max_iter=3000, pca_dims=100, perplexity=30, dims=2)\n",
    "  \n",
    "  # if KL divergence adjustment is less than the previous one, it updates\n",
    "  if ( tail(tsne_temp$itercosts,1) < KL_val )\n",
    "    tsne_out <- tsne_temp\n",
    "  KL_val <- tail(tsne_temp$itercosts,1)\n",
    "      \n",
    "  print(tail(tsne_temp$itercosts,1))\n",
    "}"
   ]
  },
  {
   "cell_type": "code",
   "execution_count": 17,
   "metadata": {},
   "outputs": [
    {
     "data": {},
     "metadata": {},
     "output_type": "display_data"
    },
    {
     "data": {
      "image/png": "[encoded data removed]",
      "text/plain": [
       "plot without title"
      ]
     },
     "metadata": {},
     "output_type": "display_data"
    }
   ],
   "source": [
    "#plotting t-SNE result\n",
    "options(repr.plot.width=12, repr.plot.height=8)\n",
    "\n",
    "qplot(tsne_out$Y[,1], tsne_out$Y[,2], \n",
    "      main='Representação da informação textual em duas dimensões (t-SNE)',\n",
    "      xlab='Primeira dimensão latente', ylab='Segunda dimensão latente')\n"
   ]
  },
  {
   "cell_type": "markdown",
   "metadata": {},
   "source": [
    "## Section 5: Clustering using K-means algorithm"
   ]
  },
  {
   "cell_type": "code",
   "execution_count": 34,
   "metadata": {
    "scrolled": true
   },
   "outputs": [
    {
     "data": {
      "text/html": [
       "<table>\n",
       "<thead><tr><th scope=col>ID</th><th scope=col>y1</th><th scope=col>y2</th></tr></thead>\n",
       "<tbody>\n",
       "\t<tr><td>1         </td><td> 20.784155</td><td> 5.972537 </td></tr>\n",
       "\t<tr><td>2         </td><td> 16.153662</td><td>-2.213497 </td></tr>\n",
       "\t<tr><td>3         </td><td>  7.976634</td><td>12.856253 </td></tr>\n",
       "\t<tr><td>4         </td><td>  5.236283</td><td> 3.997564 </td></tr>\n",
       "\t<tr><td>5         </td><td>-13.342668</td><td>17.880299 </td></tr>\n",
       "</tbody>\n",
       "</table>\n"
      ],
      "text/latex": [
       "\\begin{tabular}{r|lll}\n",
       " ID & y1 & y2\\\\\n",
       "\\hline\n",
       "\t 1          &  20.784155 &  5.972537 \\\\\n",
       "\t 2          &  16.153662 & -2.213497 \\\\\n",
       "\t 3          &   7.976634 & 12.856253 \\\\\n",
       "\t 4          &   5.236283 &  3.997564 \\\\\n",
       "\t 5          & -13.342668 & 17.880299 \\\\\n",
       "\\end{tabular}\n"
      ],
      "text/markdown": [
       "\n",
       "ID | y1 | y2 | \n",
       "|---|---|---|---|---|\n",
       "| 1          |  20.784155 |  5.972537  | \n",
       "| 2          |  16.153662 | -2.213497  | \n",
       "| 3          |   7.976634 | 12.856253  | \n",
       "| 4          |   5.236283 |  3.997564  | \n",
       "| 5          | -13.342668 | 17.880299  | \n",
       "\n",
       "\n"
      ],
      "text/plain": [
       "  ID y1         y2       \n",
       "1 1   20.784155  5.972537\n",
       "2 2   16.153662 -2.213497\n",
       "3 3    7.976634 12.856253\n",
       "4 4    5.236283  3.997564\n",
       "5 5  -13.342668 17.880299"
      ]
     },
     "metadata": {},
     "output_type": "display_data"
    }
   ],
   "source": [
    "# dataframe with t-SNE result and document metadata [tf-idf]\n",
    "tsne_df <- data.frame(ID = rownames(dtm_na),\n",
    "                      y1 = tsne_out$Y[,1], \n",
    "                      y2 = tsne_out$Y[,2])\n",
    "head(tsne_df,5)"
   ]
  },
  {
   "cell_type": "code",
   "execution_count": 35,
   "metadata": {},
   "outputs": [
    {
     "data": {
      "text/html": [
       "<table>\n",
       "<thead><tr><th scope=col>adicional</th><th scope=col>alteracao</th><th scope=col>alterar</th><th scope=col>anuidade</th><th scope=col>automatico</th><th scope=col>black</th><th scope=col>bloquear</th><th scope=col>cadastrar</th><th scope=col>cancelar</th><th scope=col>cartao</th><th scope=col>...</th><th scope=col>taxar</th><th scope=col>titular</th><th scope=col>transformacao</th><th scope=col>unique</th><th scope=col>valor</th><th scope=col>vencer</th><th scope=col>vip</th><th scope=col>vir</th><th scope=col>visar</th><th scope=col>way</th></tr></thead>\n",
       "<tbody>\n",
       "\t<tr><td>0         </td><td>0         </td><td>0         </td><td>0.0000000 </td><td>0         </td><td>0         </td><td>0         </td><td>0         </td><td>0.0000000 </td><td>0.06225351</td><td>...       </td><td>0         </td><td>0         </td><td>0         </td><td>0         </td><td>0         </td><td>0         </td><td>0.0000000 </td><td>0.5867378 </td><td>0         </td><td>0         </td></tr>\n",
       "\t<tr><td>0         </td><td>0         </td><td>0         </td><td>0.4313466 </td><td>0         </td><td>0         </td><td>0         </td><td>0         </td><td>0.5424768 </td><td>0.08296225</td><td>...       </td><td>0         </td><td>0         </td><td>0         </td><td>0         </td><td>0         </td><td>0         </td><td>0.0000000 </td><td>0.0000000 </td><td>0         </td><td>0         </td></tr>\n",
       "\t<tr><td>0         </td><td>0         </td><td>0         </td><td>0.0000000 </td><td>0         </td><td>0         </td><td>0         </td><td>0         </td><td>0.0000000 </td><td>0.00000000</td><td>...       </td><td>0         </td><td>0         </td><td>0         </td><td>0         </td><td>0         </td><td>0         </td><td>0.0000000 </td><td>0.0000000 </td><td>0         </td><td>0         </td></tr>\n",
       "\t<tr><td>0         </td><td>0         </td><td>0         </td><td>0.0000000 </td><td>0         </td><td>0         </td><td>0         </td><td>0         </td><td>0.0000000 </td><td>0.06851604</td><td>...       </td><td>0         </td><td>0         </td><td>0         </td><td>0         </td><td>0         </td><td>0         </td><td>0.6818192 </td><td>0.0000000 </td><td>0         </td><td>0         </td></tr>\n",
       "\t<tr><td>0         </td><td>0         </td><td>0         </td><td>0.0000000 </td><td>0         </td><td>0         </td><td>0         </td><td>0         </td><td>0.0000000 </td><td>0.10342191</td><td>...       </td><td>0         </td><td>0         </td><td>0         </td><td>0         </td><td>0         </td><td>0         </td><td>0.0000000 </td><td>0.0000000 </td><td>0         </td><td>0         </td></tr>\n",
       "</tbody>\n",
       "</table>\n"
      ],
      "text/latex": [
       "\\begin{tabular}{r|llllllllllllllllllllllllllllllllllllllllllllllllllllllllllllllllllllllll}\n",
       " adicional & alteracao & alterar & anuidade & automatico & black & bloquear & cadastrar & cancelar & cartao & ... & taxar & titular & transformacao & unique & valor & vencer & vip & vir & visar & way\\\\\n",
       "\\hline\n",
       "\t 0          & 0          & 0          & 0.0000000  & 0          & 0          & 0          & 0          & 0.0000000  & 0.06225351 & ...        & 0          & 0          & 0          & 0          & 0          & 0          & 0.0000000  & 0.5867378  & 0          & 0         \\\\\n",
       "\t 0          & 0          & 0          & 0.4313466  & 0          & 0          & 0          & 0          & 0.5424768  & 0.08296225 & ...        & 0          & 0          & 0          & 0          & 0          & 0          & 0.0000000  & 0.0000000  & 0          & 0         \\\\\n",
       "\t 0          & 0          & 0          & 0.0000000  & 0          & 0          & 0          & 0          & 0.0000000  & 0.00000000 & ...        & 0          & 0          & 0          & 0          & 0          & 0          & 0.0000000  & 0.0000000  & 0          & 0         \\\\\n",
       "\t 0          & 0          & 0          & 0.0000000  & 0          & 0          & 0          & 0          & 0.0000000  & 0.06851604 & ...        & 0          & 0          & 0          & 0          & 0          & 0          & 0.6818192  & 0.0000000  & 0          & 0         \\\\\n",
       "\t 0          & 0          & 0          & 0.0000000  & 0          & 0          & 0          & 0          & 0.0000000  & 0.10342191 & ...        & 0          & 0          & 0          & 0          & 0          & 0          & 0.0000000  & 0.0000000  & 0          & 0         \\\\\n",
       "\\end{tabular}\n"
      ],
      "text/markdown": [
       "\n",
       "adicional | alteracao | alterar | anuidade | automatico | black | bloquear | cadastrar | cancelar | cartao | ... | taxar | titular | transformacao | unique | valor | vencer | vip | vir | visar | way | \n",
       "|---|---|---|---|---|\n",
       "| 0          | 0          | 0          | 0.0000000  | 0          | 0          | 0          | 0          | 0.0000000  | 0.06225351 | ...        | 0          | 0          | 0          | 0          | 0          | 0          | 0.0000000  | 0.5867378  | 0          | 0          | \n",
       "| 0          | 0          | 0          | 0.4313466  | 0          | 0          | 0          | 0          | 0.5424768  | 0.08296225 | ...        | 0          | 0          | 0          | 0          | 0          | 0          | 0.0000000  | 0.0000000  | 0          | 0          | \n",
       "| 0          | 0          | 0          | 0.0000000  | 0          | 0          | 0          | 0          | 0.0000000  | 0.00000000 | ...        | 0          | 0          | 0          | 0          | 0          | 0          | 0.0000000  | 0.0000000  | 0          | 0          | \n",
       "| 0          | 0          | 0          | 0.0000000  | 0          | 0          | 0          | 0          | 0.0000000  | 0.06851604 | ...        | 0          | 0          | 0          | 0          | 0          | 0          | 0.6818192  | 0.0000000  | 0          | 0          | \n",
       "| 0          | 0          | 0          | 0.0000000  | 0          | 0          | 0          | 0          | 0.0000000  | 0.10342191 | ...        | 0          | 0          | 0          | 0          | 0          | 0          | 0.0000000  | 0.0000000  | 0          | 0          | \n",
       "\n",
       "\n"
      ],
      "text/plain": [
       "  adicional alteracao alterar anuidade  automatico black bloquear cadastrar\n",
       "1 0         0         0       0.0000000 0          0     0        0        \n",
       "2 0         0         0       0.4313466 0          0     0        0        \n",
       "3 0         0         0       0.0000000 0          0     0        0        \n",
       "4 0         0         0       0.0000000 0          0     0        0        \n",
       "5 0         0         0       0.0000000 0          0     0        0        \n",
       "  cancelar  cartao     ... taxar titular transformacao unique valor vencer\n",
       "1 0.0000000 0.06225351 ... 0     0       0             0      0     0     \n",
       "2 0.5424768 0.08296225 ... 0     0       0             0      0     0     \n",
       "3 0.0000000 0.00000000 ... 0     0       0             0      0     0     \n",
       "4 0.0000000 0.06851604 ... 0     0       0             0      0     0     \n",
       "5 0.0000000 0.10342191 ... 0     0       0             0      0     0     \n",
       "  vip       vir       visar way\n",
       "1 0.0000000 0.5867378 0     0  \n",
       "2 0.0000000 0.0000000 0     0  \n",
       "3 0.0000000 0.0000000 0     0  \n",
       "4 0.6818192 0.0000000 0     0  \n",
       "5 0.0000000 0.0000000 0     0  "
      ]
     },
     "metadata": {},
     "output_type": "display_data"
    }
   ],
   "source": [
    "#Preparing dataset \n",
    "\n",
    "dtm_kmeans <- dtm\n",
    "dtm_kmeans<- cbind.data.frame(Perguntas=df_original$Perguntas,dtm_kmeans)\n",
    "dtm_kmeans<- cbind.data.frame(ID=df_original$ID,dtm_kmeans)\n",
    "dtm_kmeans <- na.exclude(dtm_kmeans)\n",
    "ID <- dtm_kmeans$ID  %>% as.data.frame()\n",
    "colnames(ID) <- 'ID'\n",
    "Perguntas <- dtm_kmeans$Perguntas %>% as.data.frame()\n",
    "colnames(Perguntas) <- 'Perguntas'\n",
    "dtm_kmeans <- dtm_kmeans[,-1:-2]\n",
    "head(dtm_kmeans, 5)"
   ]
  },
  {
   "cell_type": "code",
   "execution_count": 36,
   "metadata": {
    "collapsed": true
   },
   "outputs": [],
   "source": [
    "#Prediction using K-means with k number of clusters\n",
    "set.seed(5)\n",
    "k <- 40\n",
    "\n",
    "cl <- kmeans(dtm_kmeans, k, iter.max = 10, nstart = 1,\n",
    "             algorithm = c(\"Hartigan-Wong\", \"Lloyd\", \"Forgy\",\"MacQueen\"), trace=FALSE)\n"
   ]
  },
  {
   "cell_type": "code",
   "execution_count": 37,
   "metadata": {},
   "outputs": [
    {
     "data": {
      "text/html": [
       "<table>\n",
       "<thead><tr><th scope=col>adicional</th><th scope=col>alteracao</th><th scope=col>alterar</th><th scope=col>anuidade</th><th scope=col>automatico</th><th scope=col>black</th><th scope=col>bloquear</th><th scope=col>cadastrar</th><th scope=col>cancelar</th><th scope=col>cartao</th><th scope=col>...</th><th scope=col>vencer</th><th scope=col>vip</th><th scope=col>vir</th><th scope=col>visar</th><th scope=col>way</th><th scope=col>y1</th><th scope=col>y2</th><th scope=col>ID</th><th scope=col>Cluster</th><th scope=col>Perguntas</th></tr></thead>\n",
       "<tbody>\n",
       "\t<tr><td>0                                      </td><td>0                                      </td><td>0                                      </td><td>0                                      </td><td>0                                      </td><td>0                                      </td><td>0                                      </td><td>0                                      </td><td>0                                      </td><td>0                                      </td><td>...                                    </td><td>0                                      </td><td>0                                      </td><td>0                                      </td><td>0                                      </td><td>0                                      </td><td>  9.86459                              </td><td> 8.684156                              </td><td>177                                    </td><td> 9                                     </td><td>conversão super bonus unique           </td></tr>\n",
       "\t<tr><td>0                                      </td><td>0                                      </td><td>0                                      </td><td>0                                      </td><td>0                                      </td><td>0                                      </td><td>0                                      </td><td>0                                      </td><td>0                                      </td><td>0                                      </td><td>...                                    </td><td>0                                      </td><td>0                                      </td><td>0                                      </td><td>0                                      </td><td>0                                      </td><td> 21.49908                              </td><td>-2.616946                              </td><td>63                                     </td><td>11                                     </td><td>como solicitar nova chave de seguranca?</td></tr>\n",
       "\t<tr><td>0                                      </td><td>0                                      </td><td>0                                      </td><td>0                                      </td><td>0                                      </td><td>0                                      </td><td>0                                      </td><td>0                                      </td><td>0                                      </td><td>0                                      </td><td>...                                    </td><td>0                                      </td><td>0                                      </td><td>0                                      </td><td>0                                      </td><td>0                                      </td><td> 16.99379                              </td><td> 9.924998                              </td><td>155                                    </td><td>33                                     </td><td>boomerang de premios santander         </td></tr>\n",
       "\t<tr><td>0                                      </td><td>0                                      </td><td>0                                      </td><td>0                                      </td><td>0                                      </td><td>0                                      </td><td>0                                      </td><td>0                                      </td><td>0                                      </td><td>0                                      </td><td>...                                    </td><td>0                                      </td><td>0                                      </td><td>0                                      </td><td>0                                      </td><td>0                                      </td><td>-11.32794                              </td><td>-3.229249                              </td><td>222                                    </td><td>31                                     </td><td>saque em moeda estrangeira             </td></tr>\n",
       "\t<tr><td>0                                      </td><td>0                                      </td><td>0                                      </td><td>0                                      </td><td>0                                      </td><td>0                                      </td><td>0                                      </td><td>0                                      </td><td>0                                      </td><td>0                                      </td><td>...                                    </td><td>0                                      </td><td>0                                      </td><td>0                                      </td><td>0                                      </td><td>0                                      </td><td>-11.32794                              </td><td>-3.229249                              </td><td>218                                    </td><td>31                                     </td><td>saque saque moeda estrangeira          </td></tr>\n",
       "</tbody>\n",
       "</table>\n"
      ],
      "text/latex": [
       "\\begin{tabular}{r|lllllllllllllllllllllllllllllllllllllllllllllllllllllllllllllllllllllllllllll}\n",
       " adicional & alteracao & alterar & anuidade & automatico & black & bloquear & cadastrar & cancelar & cartao & ... & vencer & vip & vir & visar & way & y1 & y2 & ID & Cluster & Perguntas\\\\\n",
       "\\hline\n",
       "\t 0                                       & 0                                       & 0                                       & 0                                       & 0                                       & 0                                       & 0                                       & 0                                       & 0                                       & 0                                       & ...                                     & 0                                       & 0                                       & 0                                       & 0                                       & 0                                       &   9.86459                               &  8.684156                               & 177                                     &  9                                      & conversão super bonus unique           \\\\\n",
       "\t 0                                       & 0                                       & 0                                       & 0                                       & 0                                       & 0                                       & 0                                       & 0                                       & 0                                       & 0                                       & ...                                     & 0                                       & 0                                       & 0                                       & 0                                       & 0                                       &  21.49908                               & -2.616946                               & 63                                      & 11                                      & como solicitar nova chave de seguranca?\\\\\n",
       "\t 0                                       & 0                                       & 0                                       & 0                                       & 0                                       & 0                                       & 0                                       & 0                                       & 0                                       & 0                                       & ...                                     & 0                                       & 0                                       & 0                                       & 0                                       & 0                                       &  16.99379                               &  9.924998                               & 155                                     & 33                                      & boomerang de premios santander         \\\\\n",
       "\t 0                                       & 0                                       & 0                                       & 0                                       & 0                                       & 0                                       & 0                                       & 0                                       & 0                                       & 0                                       & ...                                     & 0                                       & 0                                       & 0                                       & 0                                       & 0                                       & -11.32794                               & -3.229249                               & 222                                     & 31                                      & saque em moeda estrangeira             \\\\\n",
       "\t 0                                       & 0                                       & 0                                       & 0                                       & 0                                       & 0                                       & 0                                       & 0                                       & 0                                       & 0                                       & ...                                     & 0                                       & 0                                       & 0                                       & 0                                       & 0                                       & -11.32794                               & -3.229249                               & 218                                     & 31                                      & saque saque moeda estrangeira          \\\\\n",
       "\\end{tabular}\n"
      ],
      "text/markdown": [
       "\n",
       "adicional | alteracao | alterar | anuidade | automatico | black | bloquear | cadastrar | cancelar | cartao | ... | vencer | vip | vir | visar | way | y1 | y2 | ID | Cluster | Perguntas | \n",
       "|---|---|---|---|---|\n",
       "| 0                                       | 0                                       | 0                                       | 0                                       | 0                                       | 0                                       | 0                                       | 0                                       | 0                                       | 0                                       | ...                                     | 0                                       | 0                                       | 0                                       | 0                                       | 0                                       |   9.86459                               |  8.684156                               | 177                                     |  9                                      | conversão super bonus unique            | \n",
       "| 0                                       | 0                                       | 0                                       | 0                                       | 0                                       | 0                                       | 0                                       | 0                                       | 0                                       | 0                                       | ...                                     | 0                                       | 0                                       | 0                                       | 0                                       | 0                                       |  21.49908                               | -2.616946                               | 63                                      | 11                                      | como solicitar nova chave de seguranca? | \n",
       "| 0                                       | 0                                       | 0                                       | 0                                       | 0                                       | 0                                       | 0                                       | 0                                       | 0                                       | 0                                       | ...                                     | 0                                       | 0                                       | 0                                       | 0                                       | 0                                       |  16.99379                               |  9.924998                               | 155                                     | 33                                      | boomerang de premios santander          | \n",
       "| 0                                       | 0                                       | 0                                       | 0                                       | 0                                       | 0                                       | 0                                       | 0                                       | 0                                       | 0                                       | ...                                     | 0                                       | 0                                       | 0                                       | 0                                       | 0                                       | -11.32794                               | -3.229249                               | 222                                     | 31                                      | saque em moeda estrangeira              | \n",
       "| 0                                       | 0                                       | 0                                       | 0                                       | 0                                       | 0                                       | 0                                       | 0                                       | 0                                       | 0                                       | ...                                     | 0                                       | 0                                       | 0                                       | 0                                       | 0                                       | -11.32794                               | -3.229249                               | 218                                     | 31                                      | saque saque moeda estrangeira           | \n",
       "\n",
       "\n"
      ],
      "text/plain": [
       "  adicional alteracao alterar anuidade automatico black bloquear cadastrar\n",
       "1 0         0         0       0        0          0     0        0        \n",
       "2 0         0         0       0        0          0     0        0        \n",
       "3 0         0         0       0        0          0     0        0        \n",
       "4 0         0         0       0        0          0     0        0        \n",
       "5 0         0         0       0        0          0     0        0        \n",
       "  cancelar cartao ... vencer vip vir visar way y1        y2        ID  Cluster\n",
       "1 0        0      ... 0      0   0   0     0     9.86459  8.684156 177  9     \n",
       "2 0        0      ... 0      0   0   0     0    21.49908 -2.616946 63  11     \n",
       "3 0        0      ... 0      0   0   0     0    16.99379  9.924998 155 33     \n",
       "4 0        0      ... 0      0   0   0     0   -11.32794 -3.229249 222 31     \n",
       "5 0        0      ... 0      0   0   0     0   -11.32794 -3.229249 218 31     \n",
       "  Perguntas                              \n",
       "1 conversão super bonus unique           \n",
       "2 como solicitar nova chave de seguranca?\n",
       "3 boomerang de premios santander         \n",
       "4 saque em moeda estrangeira             \n",
       "5 saque saque moeda estrangeira          "
      ]
     },
     "metadata": {},
     "output_type": "display_data"
    }
   ],
   "source": [
    "clusters <- as.vector(cl$cluster)\n",
    "\n",
    "dtm_kmeans<- cbind.data.frame(Perguntas=Perguntas,dtm_kmeans)\n",
    "dtm_kmeans<- cbind.data.frame(Cluster=as.vector(cl$cluster),dtm_kmeans)\n",
    "dtm_kmeans<- cbind.data.frame(ID=ID,dtm_kmeans)\n",
    "\n",
    "\n",
    "tsne_df <- cbind(tsne_df, dtm_na)\n",
    "tsne_df <- tsne_df[,-1]\n",
    "\n",
    "#dim(dtm_cont[!duplicated(dtm_kmeans),])\n",
    "\n",
    "dtm_kmeans <- dtm_kmeans[!duplicated(dtm_kmeans$Perguntas),]\n",
    "\n",
    "#creating the final dataset with kmeans clustering results\n",
    "merged_tsne <- merge(tsne_df, dtm_kmeans)\n",
    "\n",
    "head(merged_tsne, 5)"
   ]
  },
  {
   "cell_type": "code",
   "execution_count": 38,
   "metadata": {},
   "outputs": [
    {
     "data": {},
     "metadata": {},
     "output_type": "display_data"
    },
    {
     "data": {
      "image/png": "[encoded data removed]",
      "text/plain": [
       "plot without title"
      ]
     },
     "metadata": {},
     "output_type": "display_data"
    }
   ],
   "source": [
    "#plotting t-SNE result with clusters colors\n",
    "options(repr.plot.width=12, repr.plot.height=8)\n",
    "\n",
    "# dimensões latentes com resultado da clusterização pelo OPTICS\n",
    "merged_tsne %>% \n",
    "  #filter(cluster == 4) %>%\n",
    "  ggplot(aes(x=y1,y=y2,color=factor(Cluster))) + \n",
    "  geom_point() + \n",
    "  ggtitle('Representação da informação textual em duas dimensões (t-SNE)') +\n",
    "  xlab('Primeira dimensão latente') + ylab('Segunda dimensão latente')"
   ]
  },
  {
   "cell_type": "code",
   "execution_count": 40,
   "metadata": {},
   "outputs": [
    {
     "data": {
      "text/html": [
       "<table>\n",
       "<thead><tr><th scope=col>ID</th><th scope=col>Cluster</th><th scope=col>Perguntas</th></tr></thead>\n",
       "<tbody>\n",
       "\t<tr><td>1                                          </td><td> 6                                         </td><td>segunda via de senha cartão debito         </td></tr>\n",
       "\t<tr><td>2                                          </td><td>12                                         </td><td>estorno de anuidade para cartao cancelado  </td></tr>\n",
       "\t<tr><td>3                                          </td><td>39                                         </td><td>quais são os cartões para pj               </td></tr>\n",
       "\t<tr><td>4                                          </td><td>36                                         </td><td>qual cartão tem sala vip                   </td></tr>\n",
       "\t<tr><td>5                                          </td><td>18                                         </td><td>prazo de entrega cartão de crédito         </td></tr>\n",
       "\t<tr><td>6                                          </td><td>10                                         </td><td>solicitação de um novo cartão expresso     </td></tr>\n",
       "\t<tr><td>7                                          </td><td>37                                         </td><td>desbloquear cartão com erro de leitura     </td></tr>\n",
       "\t<tr><td>8                                          </td><td> 8                                         </td><td>limite diario compra cartao de debito      </td></tr>\n",
       "\t<tr><td>9                                          </td><td>37                                         </td><td>erro na impressao de fatura                </td></tr>\n",
       "\t<tr><td>10                                         </td><td>18                                         </td><td>inclusão debio automatico cartão de credito</td></tr>\n",
       "</tbody>\n",
       "</table>\n"
      ],
      "text/latex": [
       "\\begin{tabular}{r|lll}\n",
       " ID & Cluster & Perguntas\\\\\n",
       "\\hline\n",
       "\t 1                                           &  6                                          & segunda via de senha cartão debito         \\\\\n",
       "\t 2                                           & 12                                          & estorno de anuidade para cartao cancelado  \\\\\n",
       "\t 3                                           & 39                                          & quais são os cartões para pj               \\\\\n",
       "\t 4                                           & 36                                          & qual cartão tem sala vip                   \\\\\n",
       "\t 5                                           & 18                                          & prazo de entrega cartão de crédito         \\\\\n",
       "\t 6                                           & 10                                          & solicitação de um novo cartão expresso     \\\\\n",
       "\t 7                                           & 37                                          & desbloquear cartão com erro de leitura     \\\\\n",
       "\t 8                                           &  8                                          & limite diario compra cartao de debito      \\\\\n",
       "\t 9                                           & 37                                          & erro na impressao de fatura                \\\\\n",
       "\t 10                                          & 18                                          & inclusão debio automatico cartão de credito\\\\\n",
       "\\end{tabular}\n"
      ],
      "text/markdown": [
       "\n",
       "ID | Cluster | Perguntas | \n",
       "|---|---|---|---|---|---|---|---|---|---|\n",
       "| 1                                           |  6                                          | segunda via de senha cartão debito          | \n",
       "| 2                                           | 12                                          | estorno de anuidade para cartao cancelado   | \n",
       "| 3                                           | 39                                          | quais são os cartões para pj                | \n",
       "| 4                                           | 36                                          | qual cartão tem sala vip                    | \n",
       "| 5                                           | 18                                          | prazo de entrega cartão de crédito          | \n",
       "| 6                                           | 10                                          | solicitação de um novo cartão expresso      | \n",
       "| 7                                           | 37                                          | desbloquear cartão com erro de leitura      | \n",
       "| 8                                           |  8                                          | limite diario compra cartao de debito       | \n",
       "| 9                                           | 37                                          | erro na impressao de fatura                 | \n",
       "| 10                                          | 18                                          | inclusão debio automatico cartão de credito | \n",
       "\n",
       "\n"
      ],
      "text/plain": [
       "   ID Cluster Perguntas                                  \n",
       "1  1   6      segunda via de senha cartão debito         \n",
       "2  2  12      estorno de anuidade para cartao cancelado  \n",
       "3  3  39      quais são os cartões para pj               \n",
       "4  4  36      qual cartão tem sala vip                   \n",
       "5  5  18      prazo de entrega cartão de crédito         \n",
       "6  6  10      solicitação de um novo cartão expresso     \n",
       "7  7  37      desbloquear cartão com erro de leitura     \n",
       "8  8   8      limite diario compra cartao de debito      \n",
       "9  9  37      erro na impressao de fatura                \n",
       "10 10 18      inclusão debio automatico cartão de credito"
      ]
     },
     "metadata": {},
     "output_type": "display_data"
    }
   ],
   "source": [
    "#Create final dataset with original questions sample and the cluster obtained using K-means\n",
    "dtm_kmeans <- dtm_kmeans[, 1:3]\n",
    "\n",
    "head(dtm_kmeans, 10)"
   ]
  },
  {
   "cell_type": "code",
   "execution_count": 41,
   "metadata": {
    "collapsed": true
   },
   "outputs": [],
   "source": [
    "#Export Final Model\n",
    "write.csv2(x = dtm_kmeans, file = 'cluster_cartoes_k40.csv', row.names = FALSE)"
   ]
  },
  {
   "cell_type": "markdown",
   "metadata": {},
   "source": [
    "Final observations:\n",
    "\n",
    "* This notebook does not contain an automatic definition for optimum number of clusters to be used for K-means classification algorithm.\n",
    "* You can change the number of clusters predefined for K-means (k parameter) and then run the entire Section 5 again to analyze results plotted using cluster collors."
   ]
  }
 ],
 "metadata": {
  "kernelspec": {
   "display_name": "R",
   "language": "R",
   "name": "ir"
  },
  "language_info": {
   "codemirror_mode": "r",
   "file_extension": ".r",
   "mimetype": "text/x-r-source",
   "name": "R",
   "pygments_lexer": "r",
   "version": "3.4.2"
  }
 },
 "nbformat": 4,
 "nbformat_minor": 2
}
